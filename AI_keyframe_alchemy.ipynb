{
  "nbformat": 4,
  "nbformat_minor": 0,
  "metadata": {
    "colab": {
      "provenance": [],
      "collapsed_sections": [
        "m5A_011QNL34",
        "xd_-s0wuR8ZC",
        "_J_nzO_MSB0U",
        "J6-4oif6O0--",
        "O4cuE_cCU0iA",
        "iDa4AEe9WAYU",
        "qoWuAIIvXoW6",
        "BfZxuYVSgqrQ",
        "APwGdhkJhO8v"
      ]
    },
    "kernelspec": {
      "name": "python3",
      "display_name": "Python 3"
    },
    "language_info": {
      "name": "python"
    }
  },
  "cells": [
    {
      "cell_type": "markdown",
      "source": [
        "# Artificial Invader's quick and dirty keyframe alchemy"
      ],
      "metadata": {
        "id": "yTGH_h6ZPFoU"
      }
    },
    {
      "cell_type": "markdown",
      "source": [
        "## We get our keyframe strings from all over the place, it seems like everyone has their own method. Sometimes a string is almost perfect, sometimes you generated a translation string that you think would be jamming on a Rotation schedule. This notebook is for those times. Paste your original keyframe string from whatever source into the corresponding cell and perform useful transformations on every frame at one time. I tested this notebook on an 7k frame keyframe sequence."
      ],
      "metadata": {
        "id": "2U6Jav2RPgC0"
      }
    },
    {
      "cell_type": "markdown",
      "source": [
        "\n",
        "\n",
        "# Imports"
      ],
      "metadata": {
        "id": "m5A_011QNL34"
      }
    },
    {
      "cell_type": "code",
      "execution_count": 1,
      "metadata": {
        "id": "QwYtivb0NKO8"
      },
      "outputs": [],
      "source": [
        "import re\n",
        "import numpy as np\n",
        "from posixpath import join"
      ]
    },
    {
      "cell_type": "markdown",
      "source": [
        "# Rounding"
      ],
      "metadata": {
        "id": "xd_-s0wuR8ZC"
      }
    },
    {
      "cell_type": "markdown",
      "source": [
        "## this cell will round your values to the nearrest hundreth"
      ],
      "metadata": {
        "id": "_J_nzO_MSB0U"
      }
    },
    {
      "cell_type": "markdown",
      "source": [
        "This will throw an error upon completion but it will still output the rounded strings sooooo "
      ],
      "metadata": {
        "id": "w14wl8i7TbY0"
      }
    },
    {
      "cell_type": "markdown",
      "source": [
        "### input keyframes\n",
        "use string = \"paste your string here\""
      ],
      "metadata": {
        "id": "J6-4oif6O0--"
      }
    },
    {
      "cell_type": "code",
      "source": [
        "string = \" 0:(1.3612466636111198), 1:(1.3531584481410608), 2:(1.3553153055997424), 3:(1.3709525221751906), 4:(1.350462376317707),\""
      ],
      "metadata": {
        "id": "TPOA0g05TBOH"
      },
      "execution_count": null,
      "outputs": []
    },
    {
      "cell_type": "markdown",
      "source": [
        "### Round"
      ],
      "metadata": {
        "id": "O4cuE_cCU0iA"
      }
    },
    {
      "cell_type": "code",
      "source": [
        "# split string on comma to get a list of keyframe-strength pairs\n",
        "keyframes = string.split(',')\n",
        "\n",
        "# loop through pairs and round strength value to nearest hundredth\n",
        "for pair in keyframes:\n",
        "  keyframe, strength_with_parens = pair.split(':')\n",
        "  # remove parenthesis from strength value\n",
        "  strength = strength_with_parens.replace('(', '').replace(')', '')\n",
        "  # convert strength to float and round to nearest hundredth\n",
        "  strength = round(float(strength), 2)\n",
        "  # add parenthesis back to strength value\n",
        "  strength_with_parens = f'({strength})'\n",
        "  newstring = keyframe + \":\" + strength_with_parens + \",\"\n",
        "  newstring= \"\".join(newstring)\n",
        "  print(newstring, end= \"\")"
      ],
      "metadata": {
        "colab": {
          "base_uri": "https://localhost:8080/",
          "height": 252
        },
        "id": "ayYMOU9tVNmp",
        "outputId": "7027ead6-70d7-472a-a536-2b5e82a743df"
      },
      "execution_count": null,
      "outputs": [
        {
          "output_type": "stream",
          "name": "stdout",
          "text": [
            " 0:(1.36), 1:(1.35), 2:(1.36), 3:(1.37), 4:(1.35),"
          ]
        },
        {
          "output_type": "error",
          "ename": "ValueError",
          "evalue": "ignored",
          "traceback": [
            "\u001b[0;31m---------------------------------------------------------------------------\u001b[0m",
            "\u001b[0;31mValueError\u001b[0m                                Traceback (most recent call last)",
            "\u001b[0;32m<ipython-input-19-c332fc69c402>\u001b[0m in \u001b[0;36m<module>\u001b[0;34m\u001b[0m\n\u001b[1;32m      4\u001b[0m \u001b[0;31m# loop through pairs and round strength value to nearest hundredth\u001b[0m\u001b[0;34m\u001b[0m\u001b[0;34m\u001b[0m\u001b[0;34m\u001b[0m\u001b[0m\n\u001b[1;32m      5\u001b[0m \u001b[0;32mfor\u001b[0m \u001b[0mpair\u001b[0m \u001b[0;32min\u001b[0m \u001b[0mkeyframes\u001b[0m\u001b[0;34m:\u001b[0m\u001b[0;34m\u001b[0m\u001b[0;34m\u001b[0m\u001b[0m\n\u001b[0;32m----> 6\u001b[0;31m   \u001b[0mkeyframe\u001b[0m\u001b[0;34m,\u001b[0m \u001b[0mstrength_with_parens\u001b[0m \u001b[0;34m=\u001b[0m \u001b[0mpair\u001b[0m\u001b[0;34m.\u001b[0m\u001b[0msplit\u001b[0m\u001b[0;34m(\u001b[0m\u001b[0;34m':'\u001b[0m\u001b[0;34m)\u001b[0m\u001b[0;34m\u001b[0m\u001b[0;34m\u001b[0m\u001b[0m\n\u001b[0m\u001b[1;32m      7\u001b[0m   \u001b[0;31m# remove parenthesis from strength value\u001b[0m\u001b[0;34m\u001b[0m\u001b[0;34m\u001b[0m\u001b[0;34m\u001b[0m\u001b[0m\n\u001b[1;32m      8\u001b[0m   \u001b[0mstrength\u001b[0m \u001b[0;34m=\u001b[0m \u001b[0mstrength_with_parens\u001b[0m\u001b[0;34m.\u001b[0m\u001b[0mreplace\u001b[0m\u001b[0;34m(\u001b[0m\u001b[0;34m'('\u001b[0m\u001b[0;34m,\u001b[0m \u001b[0;34m''\u001b[0m\u001b[0;34m)\u001b[0m\u001b[0;34m.\u001b[0m\u001b[0mreplace\u001b[0m\u001b[0;34m(\u001b[0m\u001b[0;34m')'\u001b[0m\u001b[0;34m,\u001b[0m \u001b[0;34m''\u001b[0m\u001b[0;34m)\u001b[0m\u001b[0;34m\u001b[0m\u001b[0;34m\u001b[0m\u001b[0m\n",
            "\u001b[0;31mValueError\u001b[0m: not enough values to unpack (expected 2, got 1)"
          ]
        }
      ]
    },
    {
      "cell_type": "markdown",
      "source": [
        "# Transformations"
      ],
      "metadata": {
        "id": "iDa4AEe9WAYU"
      }
    },
    {
      "cell_type": "markdown",
      "source": [
        "## In this Cell you can go Wild name your own formula and X = the movement value"
      ],
      "metadata": {
        "id": "qoWuAIIvXoW6"
      }
    },
    {
      "cell_type": "markdown",
      "source": [
        "A few formulas to keep in mind \n"
      ],
      "metadata": {
        "id": "nUIXrphbYHyK"
      }
    },
    {
      "cell_type": "markdown",
      "source": [
        "### input string"
      ],
      "metadata": {
        "id": "TC9XK8MOZQ_m"
      }
    },
    {
      "cell_type": "markdown",
      "source": [
        "use keyframes = \"\""
      ],
      "metadata": {
        "id": "rn5aNKVtZe-U"
      }
    },
    {
      "cell_type": "code",
      "source": [
        "keyframes = \" 0:(0.71),1:(0.71),2:(0.71),3:(0.71),4:(0.71),5:(0.71),6:(0.71),7:(0.71),8:(0.71),9:(0.71),10:(0.71),11:(0.71),\""
      ],
      "metadata": {
        "id": "VHCH7d7aZY9F"
      },
      "execution_count": null,
      "outputs": []
    },
    {
      "cell_type": "markdown",
      "source": [],
      "metadata": {
        "id": "6Z2XJ3GkS7o2"
      }
    },
    {
      "cell_type": "markdown",
      "source": [
        "### Define formula for X"
      ],
      "metadata": {
        "id": "OK_DJXWFa_Pc"
      }
    },
    {
      "cell_type": "code",
      "source": [
        "# define the formula for the linear transformation as a separate function\n",
        "def linear_transform(x):\n",
        "    #return x - 0.07\n",
        "    return x - .05 "
      ],
      "metadata": {
        "id": "6Sx29TymfENP"
      },
      "execution_count": null,
      "outputs": []
    },
    {
      "cell_type": "markdown",
      "source": [
        "### perform transformation"
      ],
      "metadata": {
        "id": "mXgUuUbzfHyS"
      }
    },
    {
      "cell_type": "code",
      "source": [
        "# define the formula for the linear transformation as a separate function\n",
        "#def linear_transform(x):\n",
        "    #return x - 0.07\n",
        "    #return x - .05   \n",
        "\n",
        "# define the regular expression pattern to match the movement values\n",
        "pattern = re.compile(r'(\\d+):\\(([\\d.]+)\\)')\n",
        "\n",
        "# define the string of keyframes\n",
        "#keyframes = \"\"\n",
        "\n",
        "# extract the movement values from the string\n",
        "values = pattern.findall(keyframes)\n",
        "\n",
        "# apply the linear transformation to the movement values\n",
        "transformed_values = map(linear_transform, [float(value[1]) for value in values])\n",
        "\n",
        "# combine the transformed movement values into a new string of keyframes\n",
        "transformed_keyframes = ', '.join(f\"{value[0]}:({transformed_value:.2f})\" for value, transformed_value in zip(values, transformed_values))\n",
        "\n",
        "# print the transformed string of keyframes\n",
        "print(transformed_keyframes)"
      ],
      "metadata": {
        "colab": {
          "base_uri": "https://localhost:8080/"
        },
        "id": "Lv5FYxp3ZONN",
        "outputId": "3a7381d9-2c84-4e59-eb87-2ac3108207fa"
      },
      "execution_count": null,
      "outputs": [
        {
          "output_type": "stream",
          "name": "stdout",
          "text": [
            "0:(0.66), 1:(0.66), 2:(0.66), 3:(0.66), 4:(0.66), 5:(0.66), 6:(0.66), 7:(0.66), 8:(0.66), 9:(0.66), 10:(0.66), 11:(0.66)\n"
          ]
        }
      ]
    },
    {
      "cell_type": "markdown",
      "source": [
        "# Remove successive duplicate values"
      ],
      "metadata": {
        "id": "BfZxuYVSgqrQ"
      }
    },
    {
      "cell_type": "markdown",
      "source": [
        "### input string\n",
        "use keyframes = \"\"\n",
        "\n"
      ],
      "metadata": {
        "id": "APwGdhkJhO8v"
      }
    },
    {
      "cell_type": "code",
      "source": [
        "keyframes = \" 703:(0.66), 704:(0.66), 705:(0.66), 706:(0.66), 707:(0.66), 708:(0.66), 709:(0.66), 710:(0.66), 711:(0.66), 712:(0.66), 713:(0.64), 714:(0.66), 715:(0.67), 716:(0.67), 717:(0.66), 718:(0.64),\""
      ],
      "metadata": {
        "id": "DIWfsDjqhUel"
      },
      "execution_count": null,
      "outputs": []
    },
    {
      "cell_type": "markdown",
      "source": [
        "### remove duplicates"
      ],
      "metadata": {
        "id": "TPqj8uP1h4Pq"
      }
    },
    {
      "cell_type": "code",
      "source": [
        "# define the input string\n",
        "#keyframes = \"0:(1), 1:(1), 2:(1), 3:(2), 4:(2), 5:(2), 6:(1), 7:(1), 8:(1)\"\n",
        "\n",
        "# split the string into a list of keyframe-value pairs\n",
        "keyframe_list = keyframes.split(\", \")\n",
        "\n",
        "# initialize an empty string for the output\n",
        "output_string = \"\"\n",
        "\n",
        "# initialize a variable to store the previous value\n",
        "prev_value = None\n",
        "\n",
        "# iterate through the keyframe-value pairs\n",
        "for keyframe_value in keyframe_list:\n",
        "  # split the keyframe-value pair into a keyframe and a value\n",
        "  keyframe, value = keyframe_value.split(\":(\")\n",
        "  value = value[:-1]  # remove the closing parenthesis from the value\n",
        "\n",
        "  # if the value is different from the previous value, add it to the output string\n",
        "  if value != prev_value:\n",
        "    output_string += keyframe_value + \", \"\n",
        "\n",
        "  # update the previous value\n",
        "  prev_value = value\n",
        "\n",
        "# remove the trailing comma and space from the output string\n",
        "output_string = output_string[:-2]\n",
        "\n",
        "# print the output string\n",
        "print(output_string)"
      ],
      "metadata": {
        "colab": {
          "base_uri": "https://localhost:8080/"
        },
        "id": "bEzRtMmDh8bY",
        "outputId": "78a9cd16-d520-4ef6-9459-21502243008b"
      },
      "execution_count": null,
      "outputs": [
        {
          "output_type": "stream",
          "name": "stdout",
          "text": [
            " 703:(0.66), 713:(0.64), 714:(0.66), 715:(0.67), 717:(0.66), 718:(0.64),\n"
          ]
        }
      ]
    },
    {
      "cell_type": "markdown",
      "source": [
        "# Convert string to Sampler Schedule"
      ],
      "metadata": {
        "id": "j3MUxoCvZc17"
      }
    },
    {
      "cell_type": "markdown",
      "source": [
        "this will allow you to set a threshold number for the string and pick two samplers. whenever the value is below the threshold it will use one sampler and whenever it is above or equal it will use the other. i've used .78 for my threshold but you can use any number that makes sense for your string."
      ],
      "metadata": {
        "id": "mjEe6ZvNaLQg"
      }
    },
    {
      "cell_type": "markdown",
      "source": [
        "### Define the string"
      ],
      "metadata": {
        "id": "SlpxiA9San1q"
      }
    },
    {
      "cell_type": "code",
      "source": [
        "s = \"0:(0.83), 1:(0.83), 2:(0.76), 3:(0.68), 4:(0.83)\""
      ],
      "metadata": {
        "id": "CunkjfH5arUV"
      },
      "execution_count": 2,
      "outputs": []
    },
    {
      "cell_type": "markdown",
      "source": [
        "### define the function"
      ],
      "metadata": {
        "id": "zQIQLL-Eav9s"
      }
    },
    {
      "cell_type": "code",
      "source": [
        "\n",
        "#import re\n",
        "\n",
        "def replace_values(s: str, high: float, low: float, high_word: str, low_word: str) -> str:\n",
        "    result = \"\"\n",
        "    for pair in s.split(\", \"):\n",
        "        key, value = re.match(r\"(\\d+):\\((.+)\\)\", pair).groups()\n",
        "        value = float(value)\n",
        "        if value >= high:\n",
        "            result += f\"{key}:{high_word}, \"\n",
        "        elif value < low:\n",
        "            result += f\"{key}:{low_word}, \"\n",
        "        else:\n",
        "            result += f\"{key}:{value}, \"\n",
        "    return result.strip(\", \")\n"
      ],
      "metadata": {
        "id": "mnFLTAr5cIbN"
      },
      "execution_count": 3,
      "outputs": []
    },
    {
      "cell_type": "markdown",
      "source": [
        "### name variables and transform"
      ],
      "metadata": {
        "id": "gH8olKvNbFnq"
      }
    },
    {
      "cell_type": "code",
      "source": [
        "replace_values(s, 0.78, 0.78, \"(euler a)\", \"(euler)\")"
      ],
      "metadata": {
        "colab": {
          "base_uri": "https://localhost:8080/",
          "height": 35
        },
        "id": "-E1i_ioobVJJ",
        "outputId": "41a7bd2a-70cd-4eb5-99f3-4952a90a0167"
      },
      "execution_count": 4,
      "outputs": [
        {
          "output_type": "execute_result",
          "data": {
            "text/plain": [
              "'0:(euler a), 1:(euler a), 2:(euler), 3:(euler), 4:(euler a)'"
            ],
            "application/vnd.google.colaboratory.intrinsic+json": {
              "type": "string"
            }
          },
          "metadata": {},
          "execution_count": 4
        }
      ]
    },
    {
      "cell_type": "markdown",
      "source": [
        "# tweening hopefully soon"
      ],
      "metadata": {
        "id": "cMNBtbl3rIhi"
      }
    }
  ]
}